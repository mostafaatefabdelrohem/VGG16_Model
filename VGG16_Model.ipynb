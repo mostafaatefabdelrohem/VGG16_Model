{
  "cells": [
    {
      "cell_type": "code",
      "execution_count": null,
      "metadata": {
        "id": "lBVjx6MjXl7O"
      },
      "outputs": [],
      "source": [
        "import os\n",
        "import keras\n",
        "import numpy as np\n",
        "import pandas as pd\n",
        "import matplotlib.pyplot as plt\n",
        "import tensorflow as tf\n",
        "from keras.preprocessing import image\n",
        "from keras.preprocessing.image import ImageDataGenerator\n",
        "from tensorflow.keras.utils import load_img\n",
        "from keras.models import Model, Sequential\n",
        "from keras.applications import VGG16\n",
        "from keras.layers import Dense, Flatten, Dropout,BatchNormalization ,Activation, GlobalAveragePooling2D\n",
        "from keras.layers import GaussianNoise\n",
        "from keras.optimizers import Adam\n",
        "from keras.callbacks import ReduceLROnPlateau,ModelCheckpoint,EarlyStopping\n",
        "from IPython.display import Image, HTML\n",
        "from keras.utils import plot_model"
      ]
    },
    {
      "cell_type": "code",
      "execution_count": null,
      "metadata": {
        "colab": {
          "base_uri": "https://localhost:8080/"
        },
        "id": "P-QHviU9XmkG",
        "outputId": "63a92556-359f-468b-cdbd-01f638d82d73"
      },
      "outputs": [
        {
          "name": "stdout",
          "output_type": "stream",
          "text": [
            "Mounted at /content/drive\n"
          ]
        }
      ],
      "source": [
        "from google.colab import drive\n",
        "drive.mount('/content/drive')"
      ]
    },
    {
      "cell_type": "code",
      "execution_count": null,
      "metadata": {
        "id": "e-GRONTxX17w"
      },
      "outputs": [],
      "source": [
        "# declare path\n",
        "train_dir = '/content/drive/MyDrive/face_emotions/train/'\n",
        "test_dir = '/content/drive/MyDrive/face_emotions/test/'\n",
        "\n",
        "# Image size\n",
        "\n",
        "IMAGE_SIZE = (48,48)\n",
        "IMAGE_SHAPE = IMAGE_SIZE + (3,)\n",
        "\n",
        "batch_size = 32\n",
        "EPOCHS = 50\n",
        "ADAM_LEARNING_RATE = 0.0001\n",
        "PATIENCE =10\n",
        "classes=['Angry','Disgust','Fear','Happy','Neutral','Sad','Surprise']\n"
      ]
    },
    {
      "cell_type": "code",
      "execution_count": null,
      "metadata": {
        "id": "sqb6JkkxX6a3"
      },
      "outputs": [],
      "source": [
        "# Data augmentation\n",
        "\n",
        "train_datagen = ImageDataGenerator(rescale = 1./255,\n",
        "                                   featurewise_center=False,\n",
        "                                   featurewise_std_normalization=False,\n",
        "                                   rotation_range=10,\n",
        "                                   width_shift_range=0.1,\n",
        "                                   height_shift_range=0.1,\n",
        "                                   zoom_range=0.1,\n",
        "                                   horizontal_flip=True)\n",
        "\n",
        "test_datagen  = ImageDataGenerator(rescale = 1./255)"
      ]
    },
    {
      "cell_type": "code",
      "execution_count": null,
      "metadata": {
        "colab": {
          "base_uri": "https://localhost:8080/"
        },
        "id": "_2poyOU0X8YX",
        "outputId": "888bbf4f-1d2c-4c87-fa12-4476a5caf29b"
      },
      "outputs": [
        {
          "name": "stdout",
          "output_type": "stream",
          "text": [
            "Found 28709 images belonging to 7 classes.\n",
            "Found 7178 images belonging to 7 classes.\n"
          ]
        }
      ],
      "source": [
        "# Load datasat\n",
        "\n",
        "train_dataset  = train_datagen.flow_from_directory(directory = train_dir,\n",
        "                                                   target_size = IMAGE_SIZE,\n",
        "                                                   class_mode = 'categorical',\n",
        "                                                   batch_size = batch_size)\n",
        "\n",
        "test_dataset = test_datagen.flow_from_directory(directory = test_dir,\n",
        "                                                  target_size = IMAGE_SIZE,\n",
        "                                                  class_mode = 'categorical',\n",
        "                                                  shuffle =True,\n",
        "                                                  batch_size = batch_size)"
      ]
    },
    {
      "cell_type": "code",
      "execution_count": null,
      "metadata": {
        "colab": {
          "base_uri": "https://localhost:8080/",
          "height": 112
        },
        "id": "dluAHRarX9lH",
        "outputId": "9d40dd2c-e027-4623-bcc0-53ab7e50afa6"
      },
      "outputs": [
        {
          "data": {
            "text/html": [
              "<table border=\"1\" class=\"dataframe\">\n",
              "  <thead>\n",
              "    <tr style=\"text-align: right;\">\n",
              "      <th></th>\n",
              "      <th>angry</th>\n",
              "      <th>happy</th>\n",
              "      <th>sad</th>\n",
              "      <th>neutral</th>\n",
              "      <th>surprise</th>\n",
              "      <th>fear</th>\n",
              "      <th>disgust</th>\n",
              "    </tr>\n",
              "  </thead>\n",
              "  <tbody>\n",
              "    <tr>\n",
              "      <th>train</th>\n",
              "      <td>3995</td>\n",
              "      <td>7215</td>\n",
              "      <td>4830</td>\n",
              "      <td>4965</td>\n",
              "      <td>3171</td>\n",
              "      <td>4097</td>\n",
              "      <td>436</td>\n",
              "    </tr>\n",
              "    <tr>\n",
              "      <th>test</th>\n",
              "      <td>958</td>\n",
              "      <td>1774</td>\n",
              "      <td>1247</td>\n",
              "      <td>1233</td>\n",
              "      <td>831</td>\n",
              "      <td>1024</td>\n",
              "      <td>111</td>\n",
              "    </tr>\n",
              "  </tbody>\n",
              "</table>"
            ],
            "text/plain": [
              "<IPython.core.display.HTML object>"
            ]
          },
          "execution_count": 6,
          "metadata": {},
          "output_type": "execute_result"
        }
      ],
      "source": [
        "# Total train/test sample\n",
        "\n",
        "def count_exp(path, set_):\n",
        "    dict_ = {}\n",
        "    for expression in os.listdir(path):\n",
        "        dir_ = path + expression\n",
        "        dict_[expression] = len(os.listdir(dir_))\n",
        "    df = pd.DataFrame(dict_, index=[set_])\n",
        "    return df\n",
        "train_count = count_exp(train_dir, 'train')\n",
        "test_count = count_exp(test_dir, 'test')\n",
        "\n",
        "HTML(train_count.append(test_count).to_html(escape=False))\n"
      ]
    },
    {
      "cell_type": "code",
      "execution_count": null,
      "metadata": {
        "colab": {
          "base_uri": "https://localhost:8080/"
        },
        "id": "Ek6-kLsjX_ht",
        "outputId": "d9558c34-3b23-4a46-8ba7-76de94a65cd6"
      },
      "outputs": [
        {
          "data": {
            "text/plain": [
              "{'angry': 0,\n",
              " 'disgust': 1,\n",
              " 'fear': 2,\n",
              " 'happy': 3,\n",
              " 'neutral': 4,\n",
              " 'sad': 5,\n",
              " 'surprise': 6}"
            ]
          },
          "execution_count": 7,
          "metadata": {},
          "output_type": "execute_result"
        }
      ],
      "source": [
        "# Data labels\n",
        "\n",
        "class_labels = test_dataset.class_indices\n",
        "class_labels"
      ]
    },
    {
      "cell_type": "code",
      "execution_count": null,
      "metadata": {
        "colab": {
          "base_uri": "https://localhost:8080/"
        },
        "id": "IWKpv7uIYCjr",
        "outputId": "3efb0064-2fc5-49d0-a659-50bdaf0218d0"
      },
      "outputs": [
        {
          "name": "stdout",
          "output_type": "stream",
          "text": [
            "(32, 48, 48, 3)\n"
          ]
        }
      ],
      "source": [
        "# See the shape of any data\n",
        "\n",
        "train_sample=next(train_dataset)\n",
        "print(train_sample[0].shape)"
      ]
    },
    {
      "cell_type": "code",
      "execution_count": null,
      "metadata": {
        "colab": {
          "base_uri": "https://localhost:8080/",
          "height": 407
        },
        "id": "x2BwO44aYRbt",
        "outputId": "0bd568ae-e44d-46c8-8b6f-d77fd97bcf16"
      },
      "outputs": [
        {
          "data": {
            "image/png": "[encoded data removed]",
            "text/plain": [
              "<Figure size 864x504 with 1 Axes>"
            ]
          },
          "metadata": {
            "needs_background": "light"
          },
          "output_type": "display_data"
        }
      ],
      "source": [
        "# # lot distribution of train/test dataste per class\n",
        "\n",
        "x = list(test_count.columns)\n",
        "y1 =train_count.iloc[0].to_list()\n",
        "y2 = test_count.iloc[0].to_list()\n",
        "plt.figure(figsize=(12,7))\n",
        "\n",
        "plt.bar(x, y1, color='grey')\n",
        "plt.bar(x, y2, bottom=y1, color='black')\n",
        "plt.xlabel(\"Emotions\")\n",
        "plt.ylabel(\"Train & Test data\")\n",
        "plt.legend([\"Train\", \"Test\"], loc='upper left')\n",
        "plt.title(\"Data\")\n",
        "plt.savefig('distribution.png')\n",
        "plt.show()"
      ]
    },
    {
      "cell_type": "code",
      "execution_count": null,
      "metadata": {
        "colab": {
          "base_uri": "https://localhost:8080/",
          "height": 118
        },
        "id": "3tQiTkplYSv-",
        "outputId": "181c97af-057d-442a-b601-94b24d2f7067"
      },
      "outputs": [
        {
          "data": {
            "image/png": "[encoded data removed]",
            "text/plain": [
              "<Figure size 1008x1584 with 7 Axes>"
            ]
          },
          "metadata": {
            "needs_background": "light"
          },
          "output_type": "display_data"
        }
      ],
      "source": [
        "# Plot image of each class\n",
        "\n",
        "plt.figure(figsize=(14,22))\n",
        "i = 1\n",
        "for expression in os.listdir(train_dir):\n",
        "    img = load_img((train_dir + expression +'/'+ os.listdir(train_dir + expression)[1]))\n",
        "    plt.subplot(1,7,i)\n",
        "    plt.imshow(img)\n",
        "    plt.title(expression)\n",
        "    plt.axis('off')\n",
        "    i += 1\n",
        "plt.show()"
      ]
    },
    {
      "cell_type": "code",
      "execution_count": null,
      "metadata": {
        "colab": {
          "base_uri": "https://localhost:8080/"
        },
        "id": "XzjoPQ5WYVIY",
        "outputId": "d18db1dc-db7b-473a-a1b3-4d9447cc2639"
      },
      "outputs": [
        {
          "name": "stdout",
          "output_type": "stream",
          "text": [
            "Downloading data from https://storage.googleapis.com/tensorflow/keras-applications/vgg16/vgg16_weights_tf_dim_ordering_tf_kernels_notop.h5\n",
            "58889256/58889256 [==============================] - 1s 0us/step\n",
            "Model: \"vgg16\"\n",
            "_________________________________________________________________\n",
            " Layer (type)                Output Shape              Param #   \n",
            "=================================================================\n",
            " input_1 (InputLayer)        [(None, 48, 48, 3)]       0         \n",
            "                                                                 \n",
            " block1_conv1 (Conv2D)       (None, 48, 48, 64)        1792      \n",
            "                                                                 \n",
            " block1_conv2 (Conv2D)       (None, 48, 48, 64)        36928     \n",
            "                                                                 \n",
            " block1_pool (MaxPooling2D)  (None, 24, 24, 64)        0         \n",
            "                                                                 \n",
            " block2_conv1 (Conv2D)       (None, 24, 24, 128)       73856     \n",
            "                                                                 \n",
            " block2_conv2 (Conv2D)       (None, 24, 24, 128)       147584    \n",
            "                                                                 \n",
            " block2_pool (MaxPooling2D)  (None, 12, 12, 128)       0         \n",
            "                                                                 \n",
            " block3_conv1 (Conv2D)       (None, 12, 12, 256)       295168    \n",
            "                                                                 \n",
            " block3_conv2 (Conv2D)       (None, 12, 12, 256)       590080    \n",
            "                                                                 \n",
            " block3_conv3 (Conv2D)       (None, 12, 12, 256)       590080    \n",
            "                                                                 \n",
            " block3_pool (MaxPooling2D)  (None, 6, 6, 256)         0         \n",
            "                                                                 \n",
            " block4_conv1 (Conv2D)       (None, 6, 6, 512)         1180160   \n",
            "                                                                 \n",
            " block4_conv2 (Conv2D)       (None, 6, 6, 512)         2359808   \n",
            "                                                                 \n",
            " block4_conv3 (Conv2D)       (None, 6, 6, 512)         2359808   \n",
            "                                                                 \n",
            " block4_pool (MaxPooling2D)  (None, 3, 3, 512)         0         \n",
            "                                                                 \n",
            " block5_conv1 (Conv2D)       (None, 3, 3, 512)         2359808   \n",
            "                                                                 \n",
            " block5_conv2 (Conv2D)       (None, 3, 3, 512)         2359808   \n",
            "                                                                 \n",
            " block5_conv3 (Conv2D)       (None, 3, 3, 512)         2359808   \n",
            "                                                                 \n",
            " block5_pool (MaxPooling2D)  (None, 1, 1, 512)         0         \n",
            "                                                                 \n",
            "=================================================================\n",
            "Total params: 14,714,688\n",
            "Trainable params: 14,714,688\n",
            "Non-trainable params: 0\n",
            "_________________________________________________________________\n"
          ]
        }
      ],
      "source": [
        "base_model = tf.keras.applications.VGG16(input_shape=(48,48,3),include_top=False,weights=\"imagenet\")\n",
        "base_model.summary()"
      ]
    },
    {
      "cell_type": "code",
      "execution_count": null,
      "metadata": {
        "id": "XbHuhkHUYuN8"
      },
      "outputs": [],
      "source": [
        "# VGG16\n",
        "\n",
        "base_model = tf.keras.applications.VGG16(input_shape= IMAGE_SHAPE,include_top=False,weights=\"imagenet\")\n",
        "\n",
        "for layer in base_model.layers[:11]:\n",
        "    layer.trainable=False"
      ]
    },
    {
      "cell_type": "code",
      "execution_count": null,
      "metadata": {
        "colab": {
          "base_uri": "https://localhost:8080/"
        },
        "id": "yZ7nie-rYwBF",
        "outputId": "d23894c1-2b2e-4a0f-f114-c6f88b278abb"
      },
      "outputs": [
        {
          "name": "stdout",
          "output_type": "stream",
          "text": [
            "Model: \"sequential\"\n",
            "_________________________________________________________________\n",
            " Layer (type)                Output Shape              Param #   \n",
            "=================================================================\n",
            " vgg16 (Functional)          (None, 1, 1, 512)         14714688  \n",
            "                                                                 \n",
            " batch_normalization (BatchN  (None, 1, 1, 512)        2048      \n",
            " ormalization)                                                   \n",
            "                                                                 \n",
            " gaussian_noise (GaussianNoi  (None, 1, 1, 512)        0         \n",
            " se)                                                             \n",
            "                                                                 \n",
            " global_average_pooling2d (G  (None, 512)              0         \n",
            " lobalAveragePooling2D)                                          \n",
            "                                                                 \n",
            " flatten (Flatten)           (None, 512)               0         \n",
            "                                                                 \n",
            " dense (Dense)               (None, 256)               131328    \n",
            "                                                                 \n",
            " batch_normalization_1 (Batc  (None, 256)              1024      \n",
            " hNormalization)                                                 \n",
            "                                                                 \n",
            " dropout (Dropout)           (None, 256)               0         \n",
            "                                                                 \n",
            " dense_1 (Dense)             (None, 128)               32896     \n",
            "                                                                 \n",
            " batch_normalization_2 (Batc  (None, 128)              512       \n",
            " hNormalization)                                                 \n",
            "                                                                 \n",
            " dropout_1 (Dropout)         (None, 128)               0         \n",
            "                                                                 \n",
            " dense_2 (Dense)             (None, 7)                 903       \n",
            "                                                                 \n",
            "=================================================================\n",
            "Total params: 14,883,399\n",
            "Trainable params: 13,146,119\n",
            "Non-trainable params: 1,737,280\n",
            "_________________________________________________________________\n"
          ]
        }
      ],
      "source": [
        "# Build transfer learning Model\n",
        "\n",
        "model=Sequential()\n",
        "model.add(base_model)\n",
        "model.add(BatchNormalization())\n",
        "model.add(GaussianNoise(0.01))\n",
        "model.add(GlobalAveragePooling2D())\n",
        "\n",
        "model.add(Flatten())\n",
        "model.add(Dense(256, activation='relu'))\n",
        "model.add(BatchNormalization())\n",
        "model.add(Dropout(0.5))\n",
        "\n",
        "model.add(Dense(128, activation='relu'))\n",
        "model.add(BatchNormalization())\n",
        "model.add(Dropout(0.5))\n",
        "\n",
        "model.add(Dense(7, activation=\"softmax\"))\n",
        "\n",
        "model.summary()"
      ]
    },
    {
      "cell_type": "code",
      "execution_count": null,
      "metadata": {
        "colab": {
          "base_uri": "https://localhost:8080/"
        },
        "id": "xI_6HKvQYxPx",
        "outputId": "09a12c93-b92f-4309-80fb-f42485124161"
      },
      "outputs": [
        {
          "name": "stdout",
          "output_type": "stream",
          "text": [
            "Model trainable 24\n"
          ]
        }
      ],
      "source": [
        "# Model trainable\n",
        "\n",
        "print(\"Model trainable\",len(model.trainable_variables))"
      ]
    },
    {
      "cell_type": "code",
      "execution_count": null,
      "metadata": {
        "id": "uYSV_NHmYz5Q"
      },
      "outputs": [],
      "source": [
        "# Compile model\n",
        "\n",
        "\n",
        "\n",
        "METRICS = ['accuracy']\n",
        "\n",
        "adam = tf.keras.optimizers.Adam(learning_rate=ADAM_LEARNING_RATE, beta_1=0.9, beta_2=0.999, epsilon=1e-08, decay=0.0)\n",
        "\n",
        "model.compile(optimizer=adam, loss='categorical_crossentropy',metrics=METRICS)"
      ]
    },
    {
      "cell_type": "code",
      "execution_count": null,
      "metadata": {
        "colab": {
          "base_uri": "https://localhost:8080/"
        },
        "id": "ApVf_EqfY05K",
        "outputId": "6cec6141-8a02-4c3b-ce44-9ed285d7b42f"
      },
      "outputs": [],
      "source": [
        "\n",
        "lrd = ReduceLROnPlateau(monitor = 'val_loss',patience = PATIENCE,verbose = 1,factor = 0.50, min_lr = 1e-10)\n",
        "mcp = ModelCheckpoint('model.h5')\n",
        "es = EarlyStopping(verbose=1, patience=20)\n",
        "\n",
        "history=model.fit(train_dataset,\n",
        "                  validation_data=test_dataset,\n",
        "                  epochs = EPOCHS,\n",
        "                  verbose =1,\n",
        "                  callbacks = [lrd,mcp,es])"
      ]
    },
    {
      "cell_type": "code",
      "execution_count": null,
      "metadata": {
        "colab": {
          "base_uri": "https://localhost:8080/"
        },
        "id": "OcbQJ48g7pIR",
        "outputId": "9550bfc7-c75e-45b9-cacc-06a2674a1df0"
      },
      "outputs": [],
      "source": [
        "#  Som Scores of train & test set\n",
        "\n",
        "train_evalation = model.evaluate(train_dataset)\n",
        "test_evaluation = model.evaluate(test_dataset)"
      ]
    },
    {
      "cell_type": "code",
      "execution_count": null,
      "metadata": {
        "colab": {
          "base_uri": "https://localhost:8080/",
          "height": 410
        },
        "id": "NrbONrjZ7n2W",
        "outputId": "f25b169e-04ae-44ea-e7d0-7b6cfeaeb7a9"
      },
      "outputs": [],
      "source": [
        "hs=history.history\n",
        "\n",
        "acc = hs['accuracy']\n",
        "val_acc = hs['val_accuracy']\n",
        "loss =  hs['loss']\n",
        "val_loss = hs['val_loss']\n",
        "\n",
        "plt.style.use('default')\n",
        "\n",
        "fig, (ax1) = plt.subplots(1,1, figsize= (10,5))\n",
        "fig.suptitle(\" MODEL'S METRICS VISUALIZATION \")\n",
        "\n",
        "ax1.plot(range(1, len(acc) + 1), acc)\n",
        "ax1.plot(range(1, len(val_acc) + 1), val_acc)\n",
        "ax1.set_title('History of Accuracy')\n",
        "ax1.set_xlabel('Epochs')\n",
        "ax1.set_ylabel('Accuracy')\n",
        "ax1.legend(['training', 'validation'])\n"
      ]
    },
    {
      "cell_type": "code",
      "execution_count": null,
      "metadata": {
        "colab": {
          "base_uri": "https://localhost:8080/"
        },
        "id": "9VXf8YJO7r1D",
        "outputId": "49e7294a-5078-44cc-c05d-3b3c5c80d7ec"
      },
      "outputs": [],
      "source": [
        "model_json = model.to_json()\n",
        "with open(\"model.json\", \"w\") as json_file:\n",
        "    json_file.write(model_json)\n",
        "model.save_weights(\"model.h5\")\n",
        "print(\"Saved model to disk\")"
      ]
    }
  ],
  "metadata": {
    "accelerator": "GPU",
    "colab": {
      "provenance": []
    },
    "gpuClass": "standard",
    "kernelspec": {
      "display_name": "Python 3",
      "name": "python3"
    },
    "language_info": {
      "name": "python"
    }
  },
  "nbformat": 4,
  "nbformat_minor": 0
}
